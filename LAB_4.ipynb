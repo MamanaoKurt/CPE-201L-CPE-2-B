{
  "nbformat": 4,
  "nbformat_minor": 0,
  "metadata": {
    "colab": {
      "provenance": [],
      "authorship_tag": "ABX9TyOD2pXSqZOyLKHriF+E4yKZ",
      "include_colab_link": true
    },
    "kernelspec": {
      "name": "python3",
      "display_name": "Python 3"
    },
    "language_info": {
      "name": "python"
    }
  },
  "cells": [
    {
      "cell_type": "markdown",
      "metadata": {
        "id": "view-in-github",
        "colab_type": "text"
      },
      "source": [
        "<a href=\"https://colab.research.google.com/github/MamanaoKurt/CPE-201L-CPE-2-B/blob/main/LAB_4.ipynb\" target=\"_parent\"><img src=\"https://colab.research.google.com/assets/colab-badge.svg\" alt=\"Open In Colab\"/></a>"
      ]
    },
    {
      "cell_type": "code",
      "execution_count": null,
      "metadata": {
        "id": "OvRR7q0hfjgV",
        "colab": {
          "base_uri": "https://localhost:8080/"
        },
        "outputId": "172b993e-6f74-4d9e-f30a-ab02dc8ecfa6"
      },
      "outputs": [
        {
          "output_type": "stream",
          "name": "stdout",
          "text": [
            "=== JENNA'S GROCERY LIST ===\n",
            "Fruit: apple | Price: 10 | Quantity: 7 | Total: 70\n",
            "Fruit: Banana | Price: 10 | Quantity: 8 | Total: 80\n",
            "Fruit: Broccoli | Price: 60 | Quantity: 12 | Total: 720\n",
            "Fruit: Lettuce | Price: 50 | Quantity: 10 | Total: 500\n",
            "\n",
            "Total Sum of Grocery List: 1370\n",
            "\n",
            "Removing Lettuce from the list\n",
            "\n",
            "UPDATED GROCERY LIST\n",
            "Fruit: apple | Price: 10 | Quantity: 7 | Total: 70\n",
            "Fruit: Banana | Price: 10 | Quantity: 8 | Total: 80\n",
            "Fruit: Broccoli | Price: 60 | Quantity: 12 | Total: 720\n",
            "\n",
            "Total Sum of Grocery List: 870\n"
          ]
        }
      ],
      "source": [
        "# Problem 1: Create a class\n",
        "class groceryitem:\n",
        "    def __init__(self, name, price, quantity):\n",
        "        self.name = name\n",
        "        self.price = price\n",
        "        self.quantity = quantity\n",
        "\n",
        "    def __del__(self):\n",
        "        pass\n",
        "\n",
        "    # Copy Constructor\n",
        "    def copy(self):\n",
        "        return Fruit(self.name, self.price, self.quantity)\n",
        "\n",
        "    # Assignment operator\n",
        "    def assign(self, other):\n",
        "        self.name = other.name\n",
        "        self.price = other.price\n",
        "        self.quantity = other.quantity\n",
        "\n",
        "    def calculate_sum(self):\n",
        "        return self.price * self.quantity\n",
        "\n",
        "    def display(self):\n",
        "        print(f\"Fruit: {self.name} | Price: {self.price} | Quantity: {self.quantity} | Total: {self.calculate_sum()}\")\n",
        "\n",
        "class Fruit(groceryitem):\n",
        "        pass\n",
        "\n",
        "\n",
        "class Vegetable(groceryitem):\n",
        "        pass\n",
        "\n",
        "\n",
        "# Problem 2: Create Grocery List\n",
        "grocerylist= [\n",
        "    Fruit(\"apple\", 10, 7),\n",
        "    Fruit(\"Banana\", 10, 8),\n",
        "    Vegetable(\"Broccoli\", 60, 12),\n",
        "    Vegetable(\"Lettuce\", 50, 10 )\n",
        "\n",
        "]\n",
        "\n",
        "print(\"=== JENNA'S GROCERY LIST ===\")\n",
        "for f in grocerylist:\n",
        "    f.display()\n",
        "\n",
        "# Problem 3: Calculate Total Sum\n",
        "def Totalsum(grocerylist):\n",
        "  total = sum(item.calculate_sum() for item in grocerylist)\n",
        "  print(f\"\\nTotal Sum of Grocery List: {total}\")\n",
        "\n",
        "Totalsum(grocerylist)\n",
        "\n",
        "# Problem 4: Delete Lettuce\n",
        "print(\"\\nRemoving Lettuce from the list\")\n",
        "grocerylist = [item for item in grocerylist if item.name != \"Lettuce\"]\n",
        "\n",
        "\n",
        "print(\"\\nUPDATED GROCERY LIST\")\n",
        "for f in grocerylist:\n",
        "    f.display()\n",
        "\n",
        "\n",
        "Totalsum(grocerylist)"
      ]
    }
  ]
}