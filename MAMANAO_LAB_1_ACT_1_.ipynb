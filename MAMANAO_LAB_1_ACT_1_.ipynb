{
  "nbformat": 4,
  "nbformat_minor": 0,
  "metadata": {
    "colab": {
      "provenance": [],
      "authorship_tag": "ABX9TyN1wA71FDQegn9HMZL69LMv",
      "include_colab_link": true
    },
    "kernelspec": {
      "name": "python3",
      "display_name": "Python 3"
    },
    "language_info": {
      "name": "python"
    }
  },
  "cells": [
    {
      "cell_type": "markdown",
      "metadata": {
        "id": "view-in-github",
        "colab_type": "text"
      },
      "source": [
        "<a href=\"https://colab.research.google.com/github/MamanaoKurt/CPE-201L-CPE-2-B/blob/main/MAMANAO_LAB_1_ACT_1_.ipynb\" target=\"_parent\"><img src=\"https://colab.research.google.com/assets/colab-badge.svg\" alt=\"Open In Colab\"/></a>"
      ]
    },
    {
      "cell_type": "code",
      "execution_count": 6,
      "metadata": {
        "colab": {
          "base_uri": "https://localhost:8080/"
        },
        "id": "7pB0BZf7Wpkc",
        "outputId": "81c54583-4394-48cf-8c3b-d6cd7448e05d"
      },
      "outputs": [
        {
          "output_type": "stream",
          "name": "stdout",
          "text": [
            "Polygon Name: octagon\n",
            "Number of Sides: 8\n",
            "Area: 60.0\n"
          ]
        }
      ],
      "source": [
        "class Polygon:\n",
        "    def __init__(self, shape_name: str, num_sides: int, shape_area: float):\n",
        "        self._shape_name = shape_name\n",
        "        self._num_sides = num_sides\n",
        "        self._shape_area = shape_area\n",
        "\n",
        "    def rename(self, new_name: str):\n",
        "        self._shape_name = new_name\n",
        "\n",
        "    def change_sides(self, sides: int):\n",
        "        self._num_sides = sides\n",
        "\n",
        "    def update_area(self, area: float):\n",
        "        self._shape_area = area\n",
        "\n",
        "    def name(self) -> str:\n",
        "        return self._shape_name\n",
        "\n",
        "    def sides(self) -> int:\n",
        "        return self._num_sides\n",
        "\n",
        "    def area(self) -> float:\n",
        "        return self._shape_area\n",
        "\n",
        "\n",
        "octagon = Polygon(shape_name=\"octagon\", num_sides=8, shape_area=60)\n",
        "\n",
        "\n",
        "print(\"Polygon Name:\", octagon.name())\n",
        "print(\"Number of Sides:\", octagon.sides())\n",
        "print(\"Area:\", float(octagon.area()))"
      ]
    }
  ]
}