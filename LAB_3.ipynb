{
  "nbformat": 4,
  "nbformat_minor": 0,
  "metadata": {
    "colab": {
      "provenance": [],
      "authorship_tag": "ABX9TyOav2La6ce77q42f/K4EWUb",
      "include_colab_link": true
    },
    "kernelspec": {
      "name": "python3",
      "display_name": "Python 3"
    },
    "language_info": {
      "name": "python"
    }
  },
  "cells": [
    {
      "cell_type": "markdown",
      "metadata": {
        "id": "view-in-github",
        "colab_type": "text"
      },
      "source": [
        "<a href=\"https://colab.research.google.com/github/MamanaoKurt/CPE-201L-CPE-2-B/blob/main/LAB_3.ipynb\" target=\"_parent\"><img src=\"https://colab.research.google.com/assets/colab-badge.svg\" alt=\"Open In Colab\"/></a>"
      ]
    },
    {
      "cell_type": "code",
      "execution_count": 1,
      "metadata": {
        "colab": {
          "base_uri": "https://localhost:8080/"
        },
        "id": "mGR-LbmLx7p5",
        "outputId": "43871b83-c674-4c6d-d0d4-b4327894c67c"
      },
      "outputs": [
        {
          "output_type": "stream",
          "name": "stdout",
          "text": [
            "The sum of even numbers is: 186\n"
          ]
        }
      ],
      "source": [
        "\n",
        "scores = [26, 49, 98, 87, 62, 75]\n",
        "3000\n",
        "sum = 0\n",
        "for number in scores:\n",
        "    if number % 2 == 0:\n",
        "        sum = sum + number\n",
        "\n",
        "\n",
        "print(\"The sum of even numbers is:\", sum)\n"
      ]
    }
  ]
}