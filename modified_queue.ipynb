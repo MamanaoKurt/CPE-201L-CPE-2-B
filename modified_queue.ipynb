{
  "nbformat": 4,
  "nbformat_minor": 0,
  "metadata": {
    "colab": {
      "provenance": [],
      "authorship_tag": "ABX9TyO/ShKTRGRHnbAfHtQ+wOfq",
      "include_colab_link": true
    },
    "kernelspec": {
      "name": "python3",
      "display_name": "Python 3"
    },
    "language_info": {
      "name": "python"
    }
  },
  "cells": [
    {
      "cell_type": "markdown",
      "metadata": {
        "id": "view-in-github",
        "colab_type": "text"
      },
      "source": [
        "<a href=\"https://colab.research.google.com/github/MamanaoKurt/CPE-201L-CPE-2-B/blob/main/modified_queue.ipynb\" target=\"_parent\"><img src=\"https://colab.research.google.com/assets/colab-badge.svg\" alt=\"Open In Colab\"/></a>"
      ]
    },
    {
      "cell_type": "code",
      "execution_count": 51,
      "metadata": {
        "colab": {
          "base_uri": "https://localhost:8080/"
        },
        "id": "I8y7S4MwE7AP",
        "outputId": "705921fb-fedc-42a4-c28e-76354f973e61"
      },
      "outputs": [
        {
          "output_type": "stream",
          "name": "stdout",
          "text": [
            "['A', 'B', 'C']\n",
            "A\n",
            "B\n",
            "C\n",
            "[]\n",
            "\n",
            "head of queue: A\n",
            "tail of queue: C\n",
            "is queue empty? False\n",
            "is queue full? (max size 3): True\n",
            "is queue full? (max size 4): False\n"
          ]
        }
      ],
      "source": [
        "queue = []\n",
        "#enqueue items into queue\n",
        "queue.append('A')\n",
        "queue.append('B')\n",
        "queue.append('C')\n",
        "print(queue)\n",
        "\n",
        "#dequeue items from the queue\n",
        "print(queue.pop(0))\n",
        "print(queue.pop(0))\n",
        "print(queue.pop(0))\n",
        "print(queue)\n",
        "\n",
        "#def Head_queue:\n",
        "def Head_queue(q):\n",
        "    if not empty_queue(q):\n",
        "        return q[0]\n",
        "    else:\n",
        "        return None\n",
        "\n",
        "#def Tail_queue\n",
        "def Tail_queue(q):\n",
        "    if not empty_queue(q):\n",
        "        return q[-1]\n",
        "    else:\n",
        "        return None\n",
        "\n",
        "queue.append('A')\n",
        "queue.append('B')\n",
        "queue.append('C')\n",
        "\n",
        "\n",
        "print(\"\\nhead of queue:\", Head_queue(queue))\n",
        "print(\"tail of queue:\", Tail_queue(queue))\n",
        "print(\"is queue empty?\", empty_queue(queue))\n",
        "print(\"is queue full? (max size 3):\", full_queue(queue, 3))\n",
        "print(\"is queue full? (max size 4):\", full_queue(queue, 4))"
      ]
    },
    {
      "cell_type": "code",
      "source": [
        "queue = []\n",
        "#enqueue items into queue\n",
        "queue.append('A')\n",
        "queue.append('B')\n",
        "queue.append('C')\n",
        "print(queue)\n",
        "\n",
        "#dequeue items from the queue\n",
        "print(queue.pop(0))\n",
        "print(queue.pop(0))\n",
        "print(queue.pop(0))\n",
        "print(queue)\n",
        "\n",
        "#def Head_queue:\n",
        "def Head_queue(q):\n",
        "    if not empty_queue(q):\n",
        "        return q[0]\n",
        "    else:\n",
        "        return None\n",
        "\n",
        "#def Tail_queue\n",
        "def Tail_queue(q):\n",
        "    if not empty_queue(q):\n",
        "        return q[-1]\n",
        "    else:\n",
        "        return None\n",
        "\n",
        "\n",
        "\n",
        "\n",
        "print(\"\\nhead of queue:\", Head_queue(queue))\n",
        "print(\"tail of queue:\", Tail_queue(queue))\n",
        "print(\"is queue empty?\", empty_queue(queue))\n",
        "print(\"is queue full? (max size 3):\", full_queue(queue, 3))\n",
        "print(\"is queue full? (max size 4):\", full_queue(queue, 4))"
      ],
      "metadata": {
        "colab": {
          "base_uri": "https://localhost:8080/"
        },
        "id": "DRWh4e0XQnQL",
        "outputId": "17c50df8-4e7e-44ff-c42e-211a9d1a44cc"
      },
      "execution_count": 53,
      "outputs": [
        {
          "output_type": "stream",
          "name": "stdout",
          "text": [
            "['A', 'B', 'C']\n",
            "A\n",
            "B\n",
            "C\n",
            "[]\n",
            "\n",
            "head of queue: None\n",
            "tail of queue: None\n",
            "is queue empty? True\n",
            "is queue full? (max size 3): False\n",
            "is queue full? (max size 4): False\n"
          ]
        }
      ]
    }
  ]
}