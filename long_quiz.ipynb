{
  "nbformat": 4,
  "nbformat_minor": 0,
  "metadata": {
    "colab": {
      "provenance": [],
      "authorship_tag": "ABX9TyM4fG31pdypTQMcCPkQaIUp",
      "include_colab_link": true
    },
    "kernelspec": {
      "name": "python3",
      "display_name": "Python 3"
    },
    "language_info": {
      "name": "python"
    }
  },
  "cells": [
    {
      "cell_type": "markdown",
      "metadata": {
        "id": "view-in-github",
        "colab_type": "text"
      },
      "source": [
        "<a href=\"https://colab.research.google.com/github/MamanaoKurt/CPE-201L-CPE-2-B/blob/main/long_quiz.ipynb\" target=\"_parent\"><img src=\"https://colab.research.google.com/assets/colab-badge.svg\" alt=\"Open In Colab\"/></a>"
      ]
    },
    {
      "cell_type": "code",
      "execution_count": 71,
      "metadata": {
        "colab": {
          "base_uri": "https://localhost:8080/"
        },
        "id": "R1bh84Agl-of",
        "outputId": "3ff2e3e5-1f47-4eca-c88f-c8b109a8bfa2"
      },
      "outputs": [
        {
          "output_type": "stream",
          "name": "stdout",
          "text": [
            "OANAMAM NIWRAM TRUK_\n"
          ]
        }
      ],
      "source": [
        "class Stack:\n",
        "    def __init__(self):\n",
        "        self.stack = []\n",
        "        self.underscore_added = False\n",
        "\n",
        "    def push(self, item):\n",
        "\n",
        "        if not self.underscore_added:\n",
        "            self.stack.append('_')\n",
        "            self.underscore_added = True\n",
        "\n",
        "        self.stack.append(item)\n",
        "\n",
        "    def pop(self):\n",
        "        if not self.is_empty():\n",
        "            return self.stack.pop()\n",
        "        return None\n",
        "\n",
        "    def is_empty(self):\n",
        "        return len(self.stack) == 0\n",
        "\n",
        "    def traverse(self):\n",
        "        if len(self.stack) == 0:\n",
        "            print(\"Stack is empty\")\n",
        "        else:\n",
        "          for item in reversed(self.stack):\n",
        "                print(item, end=\"\")\n",
        "          print()\n",
        "\n",
        "Fn = Stack()\n",
        "\n",
        "\n",
        "Fn.push('K')\n",
        "Fn.push('U')\n",
        "Fn.push('R')\n",
        "Fn.push('T')\n",
        "Fn.push(' ')\n",
        "Fn.push('M')\n",
        "Fn.push('A')\n",
        "Fn.push('R')\n",
        "Fn.push('W')\n",
        "Fn.push('I')\n",
        "Fn.push('N')\n",
        "Fn.push(' ')\n",
        "Fn.push('M')\n",
        "Fn.push('A')\n",
        "Fn.push('M')\n",
        "Fn.push('A')\n",
        "Fn.push('N')\n",
        "Fn.push('A')\n",
        "Fn.push('O')\n",
        "\n",
        "Fn.traverse()"
      ]
    }
  ]
}