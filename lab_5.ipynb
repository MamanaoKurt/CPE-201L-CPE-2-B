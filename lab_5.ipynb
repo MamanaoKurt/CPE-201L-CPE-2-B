{
  "nbformat": 4,
  "nbformat_minor": 0,
  "metadata": {
    "colab": {
      "provenance": [],
      "authorship_tag": "ABX9TyN8sDluBDphn7U7wyL5ZChn",
      "include_colab_link": true
    },
    "kernelspec": {
      "name": "python3",
      "display_name": "Python 3"
    },
    "language_info": {
      "name": "python"
    }
  },
  "cells": [
    {
      "cell_type": "markdown",
      "metadata": {
        "id": "view-in-github",
        "colab_type": "text"
      },
      "source": [
        "<a href=\"https://colab.research.google.com/github/MamanaoKurt/CPE-201L-CPE-2-B/blob/main/lab_5.ipynb\" target=\"_parent\"><img src=\"https://colab.research.google.com/assets/colab-badge.svg\" alt=\"Open In Colab\"/></a>"
      ]
    },
    {
      "cell_type": "code",
      "execution_count": 2,
      "metadata": {
        "colab": {
          "base_uri": "https://localhost:8080/"
        },
        "id": "GULlhQpONPrQ",
        "outputId": "5c3673b4-c9d1-4912-825d-aa44d79bc2c9"
      },
      "outputs": [
        {
          "output_type": "stream",
          "name": "stdout",
          "text": [
            "Array elements: [1, 2, 3, 4, 5, 6, 7, 8, 9, 10]\n",
            "Element at index 0 is 1\n",
            "Element at index 1 is 2\n",
            "Element at index 2 is 3\n",
            "Element at index 3 is 4\n",
            "Element at index 4 is 5\n",
            "Element at index 5 is 6\n",
            "Element at index 6 is 7\n",
            "Element at index 7 is 8\n",
            "Element at index 8 is 9\n",
            "Element at index 9 is 10\n",
            "Sum of all numbers: 55\n",
            "Original array: [1, 2, 3, 4, 5, 6, 7, 8, 9, 10]\n",
            "Array after appending: [1, 2, 3, 4, 5, 6, 7, 8, 9, 10, 11]\n",
            "Original array: [1, 2, 3, 4, 5, 6, 7, 8, 9, 10]\n",
            "Array after insertion: [1, 99, 2, 3, 4, 5, 6, 7, 8, 9, 10]\n",
            "Original array: [5, 4, 3, 2, 1]\n",
            "Array after reversing: [1, 2, 3, 4, 5]\n",
            "Array: [5, 4, 3, 2, 1]\n",
            "Length of the array: 5\n"
          ]
        }
      ],
      "source": [
        "nums = list(range(1, 11))\n",
        "\n",
        "print(\"Array elements:\", nums)\n",
        "\n",
        "for i in range(len(nums)):\n",
        "    print(f\"Element at index {i} is {nums[i]}\")\n",
        "\n",
        "total = sum(nums)\n",
        "print(\"Sum of all numbers:\", total)\n",
        "\n",
        "numbers = [1,2,3,4,5,6,7,8,9,10]\n",
        "print(\"Original array:\", numbers)\n",
        "numbers.append(11)\n",
        "print(\"Array after appending:\", numbers)\n",
        "\n",
        "data = [1,2,3,4,5,6,7,8,9,10]\n",
        "print(\"Original array:\", data)\n",
        "data.insert(1, 99)\n",
        "print(\"Array after insertion:\", data)\n",
        "\n",
        "items = [5,4,3,2,1]\n",
        "print(\"Original array:\", items)\n",
        "# Reverse the list\n",
        "items.reverse()\n",
        "print(\"Array after reversing:\", items)\n",
        "\n",
        "arr = [5,4,3,2,1]\n",
        "print(\"Array:\", arr)\n",
        "print(\"Length of the array:\", len(arr))\n",
        "\n"
      ]
    }
  ]
}