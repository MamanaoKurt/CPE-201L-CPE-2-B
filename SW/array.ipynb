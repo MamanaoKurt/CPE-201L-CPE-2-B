{
  "nbformat": 4,
  "nbformat_minor": 0,
  "metadata": {
    "colab": {
      "provenance": [],
      "authorship_tag": "ABX9TyOu63yrLI5/L8/k6EdnJ0gH",
      "include_colab_link": true
    },
    "kernelspec": {
      "name": "python3",
      "display_name": "Python 3"
    },
    "language_info": {
      "name": "python"
    }
  },
  "cells": [
    {
      "cell_type": "markdown",
      "metadata": {
        "id": "view-in-github",
        "colab_type": "text"
      },
      "source": [
        "<a href=\"https://colab.research.google.com/github/MamanaoKurt/CPE-201L-CPE-2-B/blob/main/array.ipynb\" target=\"_parent\"><img src=\"https://colab.research.google.com/assets/colab-badge.svg\" alt=\"Open In Colab\"/></a>"
      ]
    },
    {
      "cell_type": "code",
      "source": [
        "def traverse_array(arr):\n",
        "    \"\"\"Function to traverse and print all elements in the array\"\"\"\n",
        "    print(\"Traversing the array:\")\n",
        "    for i, element in enumerate(arr):\n",
        "        print(f\"Index {i}: {element}\")\n",
        "\n",
        "def reverse(arr):\n",
        "    reversed_arr = arr[::-1]\n",
        "    print(reversed_arr)\n",
        "\n",
        "def sort(arr):\n",
        "    arr.sort() # Added parentheses to call the sort method\n",
        "    print(\"Sorted array:\", arr) # Corrected print statement\n",
        "\n",
        "def insert(arr, element):\n",
        "    arr.append(element)\n",
        "    print(\"Array after insertion:\", arr) # Added print statement\n",
        "\n",
        "def delete(arr, element):\n",
        "    try:\n",
        "        arr.remove(element)\n",
        "        print(\"Array after deletion:\", arr) # Added print statement\n",
        "    except ValueError:\n",
        "        print(f\"Element {element} not found in the array.\") # Added error handling\n",
        "\n",
        "def modify(arr, index, new_element):\n",
        "    if 0 <= index < len(arr):\n",
        "        arr[index] = new_element\n",
        "        print(\"Array after modification:\", arr) # Added print statement\n",
        "    else:\n",
        "        print(\"Invalid index.\") # Added error handling\n",
        "\n",
        "def main():\n",
        "    # Initialize an array\n",
        "    arr = [10, 60, 30, 40, 50]\n",
        "\n",
        "    print(\"Original array:\", arr)\n",
        "\n",
        "    while True:\n",
        "        print(\"\\nMenu:\")\n",
        "        print(\"1. Traverse array\")\n",
        "        print(\"2. Reverse array\")\n",
        "        print(\"3. Sort array\")\n",
        "        print(\"4. Insert element\")\n",
        "        print(\"5. Delete element\")\n",
        "        print(\"6. Modify element\")\n",
        "        print(\"7. Exit\")\n",
        "        choice = input(\"Enter your choice (1 to 7): \")\n",
        "\n",
        "        if choice == '1':\n",
        "            traverse_array(arr)\n",
        "        elif choice == '2':\n",
        "            reverse(arr)\n",
        "        elif choice == '3':\n",
        "            sort(arr)\n",
        "        elif choice == '4':\n",
        "            element = int(input(\"Enter the element to insert: \")) # Added input for element\n",
        "            insert(arr, element)\n",
        "        elif choice == '5':\n",
        "            element = int(input(\"Enter the element to delete: \")) # Added input for element\n",
        "            delete(arr, element)\n",
        "        elif choice == '6':\n",
        "            index = int(input(\"Enter the index to modify: \")) # Added input for index\n",
        "            new_element = int(input(\"Enter the new element: \")) # Added input for new element\n",
        "            modify(arr, index, new_element)\n",
        "        elif choice == '7':\n",
        "            print(\"Exiting program.\")\n",
        "            break\n",
        "        else:\n",
        "            print(\"Invalid choice. Please enter a number between 1 and 7.\") # Added handling for invalid choice\n",
        "\n",
        "if __name__ == \"__main__\":\n",
        "    main()"
      ],
      "metadata": {
        "colab": {
          "base_uri": "https://localhost:8080/"
        },
        "id": "dnyz_z9pr6rc",
        "outputId": "bf92eb7d-5448-41f8-80be-ad44bed0f734"
      },
      "execution_count": null,
      "outputs": [
        {
          "metadata": {
            "tags": null
          },
          "name": "stdout",
          "output_type": "stream",
          "text": [
            "Original array: [10, 60, 30, 40, 50]\n",
            "\n",
            "Menu:\n",
            "1. Traverse array\n",
            "2. Reverse array\n",
            "3. Sort array\n",
            "4. Insert element\n",
            "5. Delete element\n",
            "6. Modify element\n",
            "7. Exit\n",
            "Array after insertion: [10, 60, 30, 40, 50, 100]\n",
            "\n",
            "Menu:\n",
            "1. Traverse array\n",
            "2. Reverse array\n",
            "3. Sort array\n",
            "4. Insert element\n",
            "5. Delete element\n",
            "6. Modify element\n",
            "7. Exit\n",
            "Sorted array: [10, 30, 40, 50, 60, 100]\n",
            "\n",
            "Menu:\n",
            "1. Traverse array\n",
            "2. Reverse array\n",
            "3. Sort array\n",
            "4. Insert element\n",
            "5. Delete element\n",
            "6. Modify element\n",
            "7. Exit\n"
          ]
        }
      ]
    },
    {
      "cell_type": "code",
      "source": [],
      "metadata": {
        "id": "fquJ6Q9Kzoed"
      },
      "execution_count": null,
      "outputs": []
    }
  ]
}