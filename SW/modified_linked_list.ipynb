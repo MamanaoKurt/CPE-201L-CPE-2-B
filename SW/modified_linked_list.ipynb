{
  "nbformat": 4,
  "nbformat_minor": 0,
  "metadata": {
    "colab": {
      "provenance": [],
      "authorship_tag": "ABX9TyOhhkXFQ9VB+HUQtj3ySVVv",
      "include_colab_link": true
    },
    "kernelspec": {
      "name": "python3",
      "display_name": "Python 3"
    },
    "language_info": {
      "name": "python"
    }
  },
  "cells": [
    {
      "cell_type": "markdown",
      "metadata": {
        "id": "view-in-github",
        "colab_type": "text"
      },
      "source": [
        "<a href=\"https://colab.research.google.com/github/MamanaoKurt/CPE-201L-CPE-2-B/blob/main/modified_linked_list.ipynb\" target=\"_parent\"><img src=\"https://colab.research.google.com/assets/colab-badge.svg\" alt=\"Open In Colab\"/></a>"
      ]
    },
    {
      "cell_type": "code",
      "execution_count": 9,
      "metadata": {
        "colab": {
          "base_uri": "https://localhost:8080/"
        },
        "id": "8Q_sY8F5f1X2",
        "outputId": "858ebc21-1fdc-4959-fb9c-4af9ce1c5be9"
      },
      "outputs": [
        {
          "output_type": "stream",
          "name": "stdout",
          "text": [
            "A\n",
            "B\n",
            "C\n",
            "D\n",
            "\n",
            "Reversed Linked List\n",
            "\n",
            "D\n",
            "C\n",
            "B\n",
            "A\n"
          ]
        }
      ],
      "source": [
        "# Node class\n",
        "class Node:\n",
        "\n",
        "    # Function to initialize the node object\n",
        "    def __init__(self, data):\n",
        "        self.data = data # Assign data\n",
        "        self.next = None # Initialize\n",
        "                        # next as null\n",
        "\n",
        "# Linked List class\n",
        "class LinkedList:\n",
        "\n",
        "    # Function to initialize the Linked\n",
        "    # List object\n",
        "    def __init__(self):\n",
        "        self.head = None\n",
        "    def print_data(self):\n",
        "      current =self.head\n",
        "      while current:\n",
        "        print(current.data)\n",
        "        current=current.next\n",
        "\n",
        "    def reverse(self):\n",
        "        prev = None\n",
        "        current = self.head\n",
        "        while(current is not None):\n",
        "            next = current.next\n",
        "            current.next = prev\n",
        "            prev = current\n",
        "            current = next\n",
        "        self.head = prev\n",
        "        return\n",
        "\n",
        "\n",
        "# Start with the empty list\n",
        "    llist = LinkedList()\n",
        "\n",
        "    llist.head = Node(\"A\")  #object name1\n",
        "    second = Node(\"B\")        #object name2\n",
        "    third = Node(\"C\")\n",
        "    fourth = Node(\"D\")\n",
        "\n",
        "    llist.head.next = second # Link first node with second\n",
        "    second.next = third # Link second node with the third node\n",
        "    third.next = fourth #Link third to fourth\n",
        "    llist.print_data()\n",
        "    llist.reverse()\n",
        "    print(\"\\nReversed Linked List\\n\")\n",
        "    llist.print_data()"
      ]
    }
  ]
}