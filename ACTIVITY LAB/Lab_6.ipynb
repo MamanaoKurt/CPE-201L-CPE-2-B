{
  "nbformat": 4,
  "nbformat_minor": 0,
  "metadata": {
    "colab": {
      "provenance": [],
      "authorship_tag": "ABX9TyNtmf3DgVTuI+hwv+MwYFKU",
      "include_colab_link": true
    },
    "kernelspec": {
      "name": "python3",
      "display_name": "Python 3"
    },
    "language_info": {
      "name": "python"
    }
  },
  "cells": [
    {
      "cell_type": "markdown",
      "metadata": {
        "id": "view-in-github",
        "colab_type": "text"
      },
      "source": [
        "<a href=\"https://colab.research.google.com/github/MamanaoKurt/CPE-201L-CPE-2-B/blob/main/Lab_6.ipynb\" target=\"_parent\"><img src=\"https://colab.research.google.com/assets/colab-badge.svg\" alt=\"Open In Colab\"/></a>"
      ]
    },
    {
      "cell_type": "code",
      "source": [
        "class Node:\n",
        "    def __init__(self, data):\n",
        "        self.data = data\n",
        "        self.next = None\n",
        "\n",
        "class LinkedList:\n",
        "    def __init__(self):\n",
        "        self.head = None\n",
        "\n",
        "\n",
        "    def append(self, data):\n",
        "        new_node = Node(data)\n",
        "        if not self.head:\n",
        "            self.head = new_node\n",
        "            return\n",
        "        temp = self.head\n",
        "        while temp.next:\n",
        "            temp = temp.next\n",
        "        temp.next = new_node\n",
        "\n",
        "\n",
        "    def display(self):\n",
        "        elements = []\n",
        "        temp = self.head\n",
        "        while temp:\n",
        "            elements.append(temp.data)\n",
        "            temp = temp.next\n",
        "        return elements\n",
        "\n",
        "\n",
        "    def get_tail(self):\n",
        "        temp = self.head\n",
        "        while temp and temp.next:\n",
        "            temp = temp.next\n",
        "        return temp.data if temp else None\n",
        "\n",
        "\n",
        "def is_prime(n):\n",
        "    if n < 2:\n",
        "        return False\n",
        "    for i in range(2, int(n**0.5) + 1):\n",
        "        if n % i == 0:\n",
        "            return False\n",
        "    return True\n",
        "\n",
        "\n",
        "prime_list = LinkedList()\n",
        "for num in range(20):\n",
        "    if is_prime(num):\n",
        "        prime_list.append(num)\n",
        "\n",
        "\n",
        "print(\"Prime numbers in linked list:\", prime_list.display())\n",
        "print(\"Head of the list:\", prime_list.head.data)\n",
        "print(\"Tail of the list:\", prime_list.get_tail())"
      ],
      "metadata": {
        "colab": {
          "base_uri": "https://localhost:8080/"
        },
        "id": "ZBcv1v-UtYsO",
        "outputId": "16580b70-498b-485f-9d80-3fc78ed472d4"
      },
      "execution_count": null,
      "outputs": [
        {
          "output_type": "stream",
          "name": "stdout",
          "text": [
            "Prime numbers in linked list: [2, 3, 5, 7, 11, 13, 17, 19]\n",
            "Head of the list: 2\n",
            "Tail of the list: 19\n"
          ]
        }
      ]
    }
  ]
}