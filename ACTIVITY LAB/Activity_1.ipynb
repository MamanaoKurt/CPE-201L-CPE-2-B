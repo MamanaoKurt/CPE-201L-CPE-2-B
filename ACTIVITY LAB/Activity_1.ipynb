{
  "nbformat": 4,
  "nbformat_minor": 0,
  "metadata": {
    "colab": {
      "provenance": [],
      "authorship_tag": "ABX9TyOvXG+WXC/oqJubq+fDOK2b",
      "include_colab_link": true
    },
    "kernelspec": {
      "name": "python3",
      "display_name": "Python 3"
    },
    "language_info": {
      "name": "python"
    }
  },
  "cells": [
    {
      "cell_type": "markdown",
      "metadata": {
        "id": "view-in-github",
        "colab_type": "text"
      },
      "source": [
        "<a href=\"https://colab.research.google.com/github/MamanaoKurt/CPE-201L-CPE-2-B/blob/main/Activity_1.ipynb\" target=\"_parent\"><img src=\"https://colab.research.google.com/assets/colab-badge.svg\" alt=\"Open In Colab\"/></a>"
      ]
    },
    {
      "cell_type": "code",
      "execution_count": 13,
      "metadata": {
        "colab": {
          "base_uri": "https://localhost:8080/"
        },
        "id": "NYYG8eSEWdSQ",
        "outputId": "3844218c-0b1c-4374-b483-ea3c22177fdc"
      },
      "outputs": [
        {
          "output_type": "stream",
          "name": "stdout",
          "text": [
            "31415.926535897932\n"
          ]
        }
      ],
      "source": [
        "import math\n",
        "\n",
        "def area_of_circle(radius):\n",
        "  print (math.pi * radius**2)\n",
        "\n",
        "area_of_circle(100)\n",
        "\n"
      ]
    },
    {
      "cell_type": "code",
      "source": [
        "import math\n",
        "def area_of_circle(diameter):\n",
        "    print(math.pi*diameter**2/4)\n",
        "\n",
        "area_of_circle(200)"
      ],
      "metadata": {
        "id": "2jQ1YvMfc9YE",
        "outputId": "e5767b47-ac26-4bf0-df80-00c7a9b7ce31",
        "colab": {
          "base_uri": "https://localhost:8080/"
        }
      },
      "execution_count": 14,
      "outputs": [
        {
          "output_type": "stream",
          "name": "stdout",
          "text": [
            "31415.926535897932\n"
          ]
        }
      ]
    }
  ]
}