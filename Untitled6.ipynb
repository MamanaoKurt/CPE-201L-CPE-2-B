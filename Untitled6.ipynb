{
  "nbformat": 4,
  "nbformat_minor": 0,
  "metadata": {
    "colab": {
      "provenance": [],
      "authorship_tag": "ABX9TyPOAZzJcKAxBXKM/mWzu7DQ",
      "include_colab_link": true
    },
    "kernelspec": {
      "name": "python3",
      "display_name": "Python 3"
    },
    "language_info": {
      "name": "python"
    }
  },
  "cells": [
    {
      "cell_type": "markdown",
      "metadata": {
        "id": "view-in-github",
        "colab_type": "text"
      },
      "source": [
        "<a href=\"https://colab.research.google.com/github/MamanaoKurt/CPE-201L-CPE-2-B/blob/main/Untitled6.ipynb\" target=\"_parent\"><img src=\"https://colab.research.google.com/assets/colab-badge.svg\" alt=\"Open In Colab\"/></a>"
      ]
    },
    {
      "cell_type": "code",
      "execution_count": null,
      "metadata": {
        "colab": {
          "base_uri": "https://localhost:8080/"
        },
        "id": "kYtIU1RSVxYx",
        "outputId": "a0f6a2de-f708-40a2-d4ca-28ce2eb6786d"
      },
      "outputs": [
        {
          "output_type": "stream",
          "name": "stdout",
          "text": [
            "Array Elements with Index:\n",
            "\n",
            "Index 0: 20\n",
            "Index 1: 21\n",
            "Index 2: 22\n",
            "Index 3: 23\n",
            "Index 4: 24\n",
            "Index 5: 25\n",
            "Index 6: 26\n",
            "Index 7: 27\n",
            "Index 8: 28\n",
            "Index 9: 29\n",
            "Index 10: 30\n",
            "Index 11: 31\n",
            "Index 12: 32\n",
            "Index 13: 33\n",
            "Index 14: 34\n",
            "Index 15: 35\n",
            "Index 16: 36\n",
            "Index 17: 37\n",
            "Index 18: 38\n",
            "Index 19: 39\n",
            "Index 20: 40\n",
            "Index 21: 41\n",
            "Index 22: 42\n",
            "Index 23: 43\n",
            "Index 24: 44\n",
            "Index 25: 45\n",
            "Index 26: 46\n",
            "Index 27: 47\n",
            "Index 28: 48\n",
            "Index 29: 49\n",
            "A. \n",
            "Total Number of Elements: 30\n",
            "B. \n",
            "Number of Even Integers: 15\n",
            "C. \n",
            "Number of Odd Integers: 15\n"
          ]
        }
      ],
      "source": [
        "array = list(range(20, 50))\n",
        "\n",
        "print(\"Array Elements with Index:\\n\")\n",
        "for index, value in enumerate(array):\n",
        "    print(f\"Index {index}: {value}\")\n",
        "\n",
        "num_elements = len(array)\n",
        "print(\"A. \\nTotal Number of Elements:\", num_elements)\n",
        "\n",
        "even_count = 0\n",
        "odd_count = 0\n",
        "\n",
        "for index, num in enumerate(array):\n",
        "    if num % 2 == 0:\n",
        "        even_count += 1\n",
        "    else:\n",
        "        odd_count += 1\n",
        "\n",
        "print(\"B. \\nNumber of Even Integers:\", even_count)\n",
        "print(\"C. \\nNumber of Odd Integers:\", odd_count)\n"
      ]
    }
  ]
}