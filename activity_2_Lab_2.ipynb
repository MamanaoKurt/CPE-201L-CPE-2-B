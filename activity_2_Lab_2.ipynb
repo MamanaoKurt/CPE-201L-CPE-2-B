{
  "nbformat": 4,
  "nbformat_minor": 0,
  "metadata": {
    "colab": {
      "provenance": [],
      "authorship_tag": "ABX9TyNbmCDpF8Q7MqJeQ6mNccXu",
      "include_colab_link": true
    },
    "kernelspec": {
      "name": "python3",
      "display_name": "Python 3"
    },
    "language_info": {
      "name": "python"
    }
  },
  "cells": [
    {
      "cell_type": "markdown",
      "metadata": {
        "id": "view-in-github",
        "colab_type": "text"
      },
      "source": [
        "<a href=\"https://colab.research.google.com/github/MamanaoKurt/CPE-201L-CPE-2-B/blob/main/activity_2_Lab_2.ipynb\" target=\"_parent\"><img src=\"https://colab.research.google.com/assets/colab-badge.svg\" alt=\"Open In Colab\"/></a>"
      ]
    },
    {
      "cell_type": "code",
      "execution_count": 2,
      "metadata": {
        "colab": {
          "base_uri": "https://localhost:8080/"
        },
        "id": "PFuvdiNmY52i",
        "outputId": "7bc97726-f529-47a1-8702-9403f6c5fb85"
      },
      "outputs": [
        {
          "output_type": "stream",
          "name": "stdout",
          "text": [
            "Min 2\n",
            "Max 6546\n"
          ]
        }
      ],
      "source": [
        "def find_min_max(seq):\n",
        "    return min(seq), max(seq)\n",
        "\n",
        "numbers = [10, 60, 2, 9, 6546]\n",
        "minimum, maximum = find_min_max(numbers)\n",
        "print(\"Min\", minimum)\n",
        "print(\"Max\", maximum)"
      ]
    }
  ]
}